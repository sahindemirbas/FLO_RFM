{
 "cells": [
  {
   "metadata": {},
   "cell_type": "markdown",
   "source": "# Gerekli kütüphaneleri yükleyin",
   "id": "b697f50822d55dff"
  },
  {
   "metadata": {
    "ExecuteTime": {
     "end_time": "2024-08-14T13:17:55.211047Z",
     "start_time": "2024-08-14T13:17:55.208887Z"
    }
   },
   "cell_type": "code",
   "source": "import pandas as pd",
   "id": "4d13d0b875808ce9",
   "outputs": [],
   "execution_count": 3
  },
  {
   "metadata": {},
   "cell_type": "markdown",
   "source": "# 1. Adım: Veriyi Okuma ve İnceleme",
   "id": "a2f9f97f71f4c507"
  },
  {
   "metadata": {
    "ExecuteTime": {
     "end_time": "2024-08-14T13:17:55.362586Z",
     "start_time": "2024-08-14T13:17:55.307228Z"
    }
   },
   "cell_type": "code",
   "source": [
    "file_path = 'https://github.com/sahindemirbas/FLO_RFM/blob/b87c31ddb54a02c4782638786d0627167bd37d0e/flo_data_20k.csv'\n",
    "df = pd.read_csv(file_path)\n",
    "df_copy = df.copy()\n",
    "df.head()"
   ],
   "id": "d33c822e6330a649",
   "outputs": [
    {
     "data": {
      "text/plain": [
       "                              master_id order_channel last_order_channel  \\\n",
       "0  cc294636-19f0-11eb-8d74-000d3a38a36f   Android App            Offline   \n",
       "1  f431bd5a-ab7b-11e9-a2fc-000d3a38a36f   Android App             Mobile   \n",
       "2  69b69676-1a40-11ea-941b-000d3a38a36f   Android App        Android App   \n",
       "3  1854e56c-491f-11eb-806e-000d3a38a36f   Android App        Android App   \n",
       "4  d6ea1074-f1f5-11e9-9346-000d3a38a36f       Desktop            Desktop   \n",
       "\n",
       "  first_order_date last_order_date last_order_date_online  \\\n",
       "0       2020-10-30      2021-02-26             2021-02-21   \n",
       "1       2017-02-08      2021-02-16             2021-02-16   \n",
       "2       2019-11-27      2020-11-27             2020-11-27   \n",
       "3       2021-01-06      2021-01-17             2021-01-17   \n",
       "4       2019-08-03      2021-03-07             2021-03-07   \n",
       "\n",
       "  last_order_date_offline  order_num_total_ever_online  \\\n",
       "0              2021-02-26                          4.0   \n",
       "1              2020-01-10                         19.0   \n",
       "2              2019-12-01                          3.0   \n",
       "3              2021-01-06                          1.0   \n",
       "4              2019-08-03                          1.0   \n",
       "\n",
       "   order_num_total_ever_offline  customer_value_total_ever_offline  \\\n",
       "0                           1.0                             139.99   \n",
       "1                           2.0                             159.97   \n",
       "2                           2.0                             189.97   \n",
       "3                           1.0                              39.99   \n",
       "4                           1.0                              49.99   \n",
       "\n",
       "   customer_value_total_ever_online       interested_in_categories_12  \n",
       "0                            799.38                           [KADIN]  \n",
       "1                           1853.58  [ERKEK, COCUK, KADIN, AKTIFSPOR]  \n",
       "2                            395.35                    [ERKEK, KADIN]  \n",
       "3                             81.98               [AKTIFCOCUK, COCUK]  \n",
       "4                            159.99                       [AKTIFSPOR]  "
      ],
      "text/html": [
       "<div>\n",
       "<style scoped>\n",
       "    .dataframe tbody tr th:only-of-type {\n",
       "        vertical-align: middle;\n",
       "    }\n",
       "\n",
       "    .dataframe tbody tr th {\n",
       "        vertical-align: top;\n",
       "    }\n",
       "\n",
       "    .dataframe thead th {\n",
       "        text-align: right;\n",
       "    }\n",
       "</style>\n",
       "<table border=\"1\" class=\"dataframe\">\n",
       "  <thead>\n",
       "    <tr style=\"text-align: right;\">\n",
       "      <th></th>\n",
       "      <th>master_id</th>\n",
       "      <th>order_channel</th>\n",
       "      <th>last_order_channel</th>\n",
       "      <th>first_order_date</th>\n",
       "      <th>last_order_date</th>\n",
       "      <th>last_order_date_online</th>\n",
       "      <th>last_order_date_offline</th>\n",
       "      <th>order_num_total_ever_online</th>\n",
       "      <th>order_num_total_ever_offline</th>\n",
       "      <th>customer_value_total_ever_offline</th>\n",
       "      <th>customer_value_total_ever_online</th>\n",
       "      <th>interested_in_categories_12</th>\n",
       "    </tr>\n",
       "  </thead>\n",
       "  <tbody>\n",
       "    <tr>\n",
       "      <th>0</th>\n",
       "      <td>cc294636-19f0-11eb-8d74-000d3a38a36f</td>\n",
       "      <td>Android App</td>\n",
       "      <td>Offline</td>\n",
       "      <td>2020-10-30</td>\n",
       "      <td>2021-02-26</td>\n",
       "      <td>2021-02-21</td>\n",
       "      <td>2021-02-26</td>\n",
       "      <td>4.0</td>\n",
       "      <td>1.0</td>\n",
       "      <td>139.99</td>\n",
       "      <td>799.38</td>\n",
       "      <td>[KADIN]</td>\n",
       "    </tr>\n",
       "    <tr>\n",
       "      <th>1</th>\n",
       "      <td>f431bd5a-ab7b-11e9-a2fc-000d3a38a36f</td>\n",
       "      <td>Android App</td>\n",
       "      <td>Mobile</td>\n",
       "      <td>2017-02-08</td>\n",
       "      <td>2021-02-16</td>\n",
       "      <td>2021-02-16</td>\n",
       "      <td>2020-01-10</td>\n",
       "      <td>19.0</td>\n",
       "      <td>2.0</td>\n",
       "      <td>159.97</td>\n",
       "      <td>1853.58</td>\n",
       "      <td>[ERKEK, COCUK, KADIN, AKTIFSPOR]</td>\n",
       "    </tr>\n",
       "    <tr>\n",
       "      <th>2</th>\n",
       "      <td>69b69676-1a40-11ea-941b-000d3a38a36f</td>\n",
       "      <td>Android App</td>\n",
       "      <td>Android App</td>\n",
       "      <td>2019-11-27</td>\n",
       "      <td>2020-11-27</td>\n",
       "      <td>2020-11-27</td>\n",
       "      <td>2019-12-01</td>\n",
       "      <td>3.0</td>\n",
       "      <td>2.0</td>\n",
       "      <td>189.97</td>\n",
       "      <td>395.35</td>\n",
       "      <td>[ERKEK, KADIN]</td>\n",
       "    </tr>\n",
       "    <tr>\n",
       "      <th>3</th>\n",
       "      <td>1854e56c-491f-11eb-806e-000d3a38a36f</td>\n",
       "      <td>Android App</td>\n",
       "      <td>Android App</td>\n",
       "      <td>2021-01-06</td>\n",
       "      <td>2021-01-17</td>\n",
       "      <td>2021-01-17</td>\n",
       "      <td>2021-01-06</td>\n",
       "      <td>1.0</td>\n",
       "      <td>1.0</td>\n",
       "      <td>39.99</td>\n",
       "      <td>81.98</td>\n",
       "      <td>[AKTIFCOCUK, COCUK]</td>\n",
       "    </tr>\n",
       "    <tr>\n",
       "      <th>4</th>\n",
       "      <td>d6ea1074-f1f5-11e9-9346-000d3a38a36f</td>\n",
       "      <td>Desktop</td>\n",
       "      <td>Desktop</td>\n",
       "      <td>2019-08-03</td>\n",
       "      <td>2021-03-07</td>\n",
       "      <td>2021-03-07</td>\n",
       "      <td>2019-08-03</td>\n",
       "      <td>1.0</td>\n",
       "      <td>1.0</td>\n",
       "      <td>49.99</td>\n",
       "      <td>159.99</td>\n",
       "      <td>[AKTIFSPOR]</td>\n",
       "    </tr>\n",
       "  </tbody>\n",
       "</table>\n",
       "</div>"
      ]
     },
     "execution_count": 4,
     "metadata": {},
     "output_type": "execute_result"
    }
   ],
   "execution_count": 4
  },
  {
   "metadata": {},
   "cell_type": "markdown",
   "source": "# İlk 10 gözlem",
   "id": "b95c02c0952c7b91"
  },
  {
   "metadata": {
    "ExecuteTime": {
     "end_time": "2024-08-14T13:17:55.371457Z",
     "start_time": "2024-08-14T13:17:55.364452Z"
    }
   },
   "cell_type": "code",
   "source": [
    "print(\"İlk 10 gözlem:\")\n",
    "print(df.head(10))"
   ],
   "id": "32bf309706a5fafc",
   "outputs": [
    {
     "name": "stdout",
     "output_type": "stream",
     "text": [
      "İlk 10 gözlem:\n",
      "                              master_id order_channel last_order_channel  \\\n",
      "0  cc294636-19f0-11eb-8d74-000d3a38a36f   Android App            Offline   \n",
      "1  f431bd5a-ab7b-11e9-a2fc-000d3a38a36f   Android App             Mobile   \n",
      "2  69b69676-1a40-11ea-941b-000d3a38a36f   Android App        Android App   \n",
      "3  1854e56c-491f-11eb-806e-000d3a38a36f   Android App        Android App   \n",
      "4  d6ea1074-f1f5-11e9-9346-000d3a38a36f       Desktop            Desktop   \n",
      "5  e585280e-aae1-11e9-a2fc-000d3a38a36f       Desktop            Offline   \n",
      "6  c445e4ee-6242-11ea-9d1a-000d3a38a36f   Android App        Android App   \n",
      "7  3f1b4dc8-8a7d-11ea-8ec0-000d3a38a36f        Mobile            Offline   \n",
      "8  cfbda69e-5b4f-11ea-aca7-000d3a38a36f   Android App        Android App   \n",
      "9  1143f032-440d-11ea-8b43-000d3a38a36f        Mobile             Mobile   \n",
      "\n",
      "  first_order_date last_order_date last_order_date_online  \\\n",
      "0       2020-10-30      2021-02-26             2021-02-21   \n",
      "1       2017-02-08      2021-02-16             2021-02-16   \n",
      "2       2019-11-27      2020-11-27             2020-11-27   \n",
      "3       2021-01-06      2021-01-17             2021-01-17   \n",
      "4       2019-08-03      2021-03-07             2021-03-07   \n",
      "5       2018-11-18      2021-03-13             2018-11-18   \n",
      "6       2020-03-04      2020-10-18             2020-10-18   \n",
      "7       2020-05-15      2020-08-12             2020-05-15   \n",
      "8       2020-01-23      2021-03-07             2021-03-07   \n",
      "9       2019-07-30      2020-10-04             2020-10-04   \n",
      "\n",
      "  last_order_date_offline  order_num_total_ever_online  \\\n",
      "0              2021-02-26                          4.0   \n",
      "1              2020-01-10                         19.0   \n",
      "2              2019-12-01                          3.0   \n",
      "3              2021-01-06                          1.0   \n",
      "4              2019-08-03                          1.0   \n",
      "5              2021-03-13                          1.0   \n",
      "6              2020-03-04                          3.0   \n",
      "7              2020-08-12                          1.0   \n",
      "8              2020-01-25                          3.0   \n",
      "9              2019-07-30                          1.0   \n",
      "\n",
      "   order_num_total_ever_offline  customer_value_total_ever_offline  \\\n",
      "0                           1.0                             139.99   \n",
      "1                           2.0                             159.97   \n",
      "2                           2.0                             189.97   \n",
      "3                           1.0                              39.99   \n",
      "4                           1.0                              49.99   \n",
      "5                           2.0                             150.87   \n",
      "6                           1.0                              59.99   \n",
      "7                           1.0                              49.99   \n",
      "8                           2.0                             120.48   \n",
      "9                           1.0                              69.98   \n",
      "\n",
      "   customer_value_total_ever_online       interested_in_categories_12  \n",
      "0                            799.38                           [KADIN]  \n",
      "1                           1853.58  [ERKEK, COCUK, KADIN, AKTIFSPOR]  \n",
      "2                            395.35                    [ERKEK, KADIN]  \n",
      "3                             81.98               [AKTIFCOCUK, COCUK]  \n",
      "4                            159.99                       [AKTIFSPOR]  \n",
      "5                             49.99                           [KADIN]  \n",
      "6                            315.94                       [AKTIFSPOR]  \n",
      "7                            113.64                           [COCUK]  \n",
      "8                            934.21             [ERKEK, COCUK, KADIN]  \n",
      "9                             95.98                [KADIN, AKTIFSPOR]  \n"
     ]
    }
   ],
   "execution_count": 5
  },
  {
   "metadata": {},
   "cell_type": "markdown",
   "source": "# Değişken isimleri",
   "id": "59bc502a1cc5c1e6"
  },
  {
   "metadata": {
    "ExecuteTime": {
     "end_time": "2024-08-14T13:17:55.377083Z",
     "start_time": "2024-08-14T13:17:55.373277Z"
    }
   },
   "cell_type": "code",
   "source": [
    "print(\"\\nDeğişken isimleri:\")\n",
    "print(df.columns)"
   ],
   "id": "afba8c679dbfbbff",
   "outputs": [
    {
     "name": "stdout",
     "output_type": "stream",
     "text": [
      "\n",
      "Değişken isimleri:\n",
      "Index(['master_id', 'order_channel', 'last_order_channel', 'first_order_date',\n",
      "       'last_order_date', 'last_order_date_online', 'last_order_date_offline',\n",
      "       'order_num_total_ever_online', 'order_num_total_ever_offline',\n",
      "       'customer_value_total_ever_offline', 'customer_value_total_ever_online',\n",
      "       'interested_in_categories_12'],\n",
      "      dtype='object')\n"
     ]
    }
   ],
   "execution_count": 6
  },
  {
   "metadata": {},
   "cell_type": "markdown",
   "source": "# Betimsel istatistik",
   "id": "4bdfb8c848ec80ae"
  },
  {
   "metadata": {
    "ExecuteTime": {
     "end_time": "2024-08-14T13:17:55.396592Z",
     "start_time": "2024-08-14T13:17:55.379578Z"
    }
   },
   "cell_type": "code",
   "source": "print(df.describe().T)",
   "id": "4605a5e2459a47f0",
   "outputs": [
    {
     "name": "stdout",
     "output_type": "stream",
     "text": [
      "                                     count        mean         std    min  \\\n",
      "order_num_total_ever_online        19945.0    3.110855    4.225647   1.00   \n",
      "order_num_total_ever_offline       19945.0    1.913913    2.062880   1.00   \n",
      "customer_value_total_ever_offline  19945.0  253.922597  301.532853  10.00   \n",
      "customer_value_total_ever_online   19945.0  497.321690  832.601886  12.99   \n",
      "\n",
      "                                      25%     50%     75%       max  \n",
      "order_num_total_ever_online          1.00    2.00    4.00    200.00  \n",
      "order_num_total_ever_offline         1.00    1.00    2.00    109.00  \n",
      "customer_value_total_ever_offline   99.99  179.98  319.97  18119.14  \n",
      "customer_value_total_ever_online   149.98  286.46  578.44  45220.13  \n"
     ]
    }
   ],
   "execution_count": 7
  },
  {
   "metadata": {},
   "cell_type": "markdown",
   "source": "# Boş değer sayısı",
   "id": "22395da520e51632"
  },
  {
   "metadata": {
    "ExecuteTime": {
     "end_time": "2024-08-14T13:17:55.405402Z",
     "start_time": "2024-08-14T13:17:55.397907Z"
    }
   },
   "cell_type": "code",
   "source": [
    "print(\"\\nBoş değer sayısı:\")\n",
    "print(df.isnull().sum())"
   ],
   "id": "d7c3b9a3db90412c",
   "outputs": [
    {
     "name": "stdout",
     "output_type": "stream",
     "text": [
      "\n",
      "Boş değer sayısı:\n",
      "master_id                            0\n",
      "order_channel                        0\n",
      "last_order_channel                   0\n",
      "first_order_date                     0\n",
      "last_order_date                      0\n",
      "last_order_date_online               0\n",
      "last_order_date_offline              0\n",
      "order_num_total_ever_online          0\n",
      "order_num_total_ever_offline         0\n",
      "customer_value_total_ever_offline    0\n",
      "customer_value_total_ever_online     0\n",
      "interested_in_categories_12          0\n",
      "dtype: int64\n"
     ]
    }
   ],
   "execution_count": 8
  },
  {
   "metadata": {},
   "cell_type": "markdown",
   "source": "# Değişken tipleri",
   "id": "ce143e4e03a56b9d"
  },
  {
   "metadata": {
    "ExecuteTime": {
     "end_time": "2024-08-14T13:17:55.409971Z",
     "start_time": "2024-08-14T13:17:55.406610Z"
    }
   },
   "cell_type": "code",
   "source": [
    "print(\"\\nDeğişken tipleri:\")\n",
    "print(df.dtypes)"
   ],
   "id": "3e6b4e548c115eb",
   "outputs": [
    {
     "name": "stdout",
     "output_type": "stream",
     "text": [
      "\n",
      "Değişken tipleri:\n",
      "master_id                             object\n",
      "order_channel                         object\n",
      "last_order_channel                    object\n",
      "first_order_date                      object\n",
      "last_order_date                       object\n",
      "last_order_date_online                object\n",
      "last_order_date_offline               object\n",
      "order_num_total_ever_online          float64\n",
      "order_num_total_ever_offline         float64\n",
      "customer_value_total_ever_offline    float64\n",
      "customer_value_total_ever_online     float64\n",
      "interested_in_categories_12           object\n",
      "dtype: object\n"
     ]
    }
   ],
   "execution_count": 9
  },
  {
   "metadata": {},
   "cell_type": "markdown",
   "source": "# 2. Adım: Omnichannel müşterilerin toplam alışveriş sayısı ve harcaması için yeni değişkenler oluşturma",
   "id": "e456a2e7b3a53084"
  },
  {
   "metadata": {
    "ExecuteTime": {
     "end_time": "2024-08-14T13:17:55.416908Z",
     "start_time": "2024-08-14T13:17:55.412301Z"
    }
   },
   "cell_type": "code",
   "source": [
    "df[\"total_order\"] = df[\"order_num_total_ever_online\"] + df[\"order_num_total_ever_offline\"]\n",
    "df[\"total_value\"] = df[\"customer_value_total_ever_online\"] + df[\"customer_value_total_ever_offline\"]"
   ],
   "id": "e5ecca7cc0dfcd61",
   "outputs": [],
   "execution_count": 10
  },
  {
   "metadata": {},
   "cell_type": "markdown",
   "source": "# 3. Adım: Değişken tiplerini inceleme ve tarih ifade eden değişkenlerin tipini date'e çevirme",
   "id": "3e6bee5d752f1176"
  },
  {
   "metadata": {
    "ExecuteTime": {
     "end_time": "2024-08-14T13:17:55.464967Z",
     "start_time": "2024-08-14T13:17:55.443950Z"
    }
   },
   "cell_type": "code",
   "source": [
    "date_columns = [\"first_order_date\", \"last_order_date\", \"last_order_date_online\", \"last_order_date_offline\"]\n",
    "for col in date_columns:\n",
    "    df[col] = pd.to_datetime(df[col])"
   ],
   "id": "19358709fda8d379",
   "outputs": [],
   "execution_count": 11
  },
  {
   "metadata": {},
   "cell_type": "markdown",
   "source": "# 4. Adım: Alışveriş kanallarındaki müşteri sayısının, toplam alınan ürün sayısının ve toplam harcamaların dağılımı",
   "id": "dcf1f9ead35f62d2"
  },
  {
   "metadata": {
    "ExecuteTime": {
     "end_time": "2024-08-14T13:17:55.571580Z",
     "start_time": "2024-08-14T13:17:55.563203Z"
    }
   },
   "cell_type": "code",
   "source": [
    "print(\"\\nAlışveriş kanallarındaki müşteri sayıları:\")\n",
    "print(df[\"order_channel\"].value_counts())\n",
    "\n",
    "print(\"\\nToplam alınan ürün sayısı (online):\")\n",
    "print(df[\"order_num_total_ever_online\"].sum())\n",
    "\n",
    "print(\"\\nToplam alınan ürün sayısı (offline):\")\n",
    "print(df[\"order_num_total_ever_offline\"].sum())\n",
    "\n",
    "print(\"\\nToplam harcamalar (online):\")\n",
    "print(df[\"customer_value_total_ever_online\"].sum())\n",
    "\n",
    "print(\"\\nToplam harcamalar (offline):\")\n",
    "print(df[\"customer_value_total_ever_offline\"].sum())"
   ],
   "id": "4c7c181972bb979f",
   "outputs": [
    {
     "name": "stdout",
     "output_type": "stream",
     "text": [
      "\n",
      "Alışveriş kanallarındaki müşteri sayıları:\n",
      "order_channel\n",
      "Android App    9495\n",
      "Mobile         4882\n",
      "Ios App        2833\n",
      "Desktop        2735\n",
      "Name: count, dtype: int64\n",
      "\n",
      "Toplam alınan ürün sayısı (online):\n",
      "62046.0\n",
      "\n",
      "Toplam alınan ürün sayısı (offline):\n",
      "38173.0\n",
      "\n",
      "Toplam harcamalar (online):\n",
      "9919081.11\n",
      "\n",
      "Toplam harcamalar (offline):\n",
      "5064486.199999999\n"
     ]
    }
   ],
   "execution_count": 12
  },
  {
   "metadata": {},
   "cell_type": "markdown",
   "source": "# 5. Adım: En fazla kazancı getiren ilk 10 müşteriyi sıralama",
   "id": "dae105359f4206ee"
  },
  {
   "metadata": {
    "ExecuteTime": {
     "end_time": "2024-08-14T13:17:55.762247Z",
     "start_time": "2024-08-14T13:17:55.751541Z"
    }
   },
   "cell_type": "code",
   "source": [
    "top_10_revenue_customers = df.sort_values(by=\"total_value\", ascending=False).head(10)\n",
    "print(\"\\nEn fazla kazancı getiren ilk 10 müşteri:\")\n",
    "print(top_10_revenue_customers[[\"master_id\", \"total_value\"]])"
   ],
   "id": "b14821c48bf9311",
   "outputs": [
    {
     "name": "stdout",
     "output_type": "stream",
     "text": [
      "\n",
      "En fazla kazancı getiren ilk 10 müşteri:\n",
      "                                  master_id  total_value\n",
      "11150  5d1c466a-9cfd-11e9-9897-000d3a38a36f     45905.10\n",
      "4315   d5ef8058-a5c6-11e9-a2fc-000d3a38a36f     36818.29\n",
      "7613   73fd19aa-9e37-11e9-9897-000d3a38a36f     33918.10\n",
      "13880  7137a5c0-7aad-11ea-8f20-000d3a38a36f     31227.41\n",
      "9055   47a642fe-975b-11eb-8c2a-000d3a38a36f     20706.34\n",
      "7330   a4d534a2-5b1b-11eb-8dbd-000d3a38a36f     18443.57\n",
      "8068   d696c654-2633-11ea-8e1c-000d3a38a36f     16918.57\n",
      "163    fef57ffa-aae6-11e9-a2fc-000d3a38a36f     12726.10\n",
      "7223   cba59206-9dd1-11e9-9897-000d3a38a36f     12282.24\n",
      "18767  fc0ce7a4-9d87-11e9-9897-000d3a38a36f     12103.15\n"
     ]
    }
   ],
   "execution_count": 13
  },
  {
   "metadata": {},
   "cell_type": "markdown",
   "source": "# 6. Adım: En fazla siparişi veren ilk 10 müşteriyi sıralama",
   "id": "e4ba4d6dfc282c6"
  },
  {
   "metadata": {
    "ExecuteTime": {
     "end_time": "2024-08-14T13:17:55.812458Z",
     "start_time": "2024-08-14T13:17:55.801649Z"
    }
   },
   "cell_type": "code",
   "source": [
    "top_10_order_customers = df.sort_values(by=\"total_order\", ascending=False).head(10)\n",
    "print(\"\\nEn fazla siparişi veren ilk 10 müşteri:\")\n",
    "print(top_10_order_customers[[\"master_id\", \"total_order\"]])"
   ],
   "id": "ff81cb13ef94eaaa",
   "outputs": [
    {
     "name": "stdout",
     "output_type": "stream",
     "text": [
      "\n",
      "En fazla siparişi veren ilk 10 müşteri:\n",
      "                                  master_id  total_order\n",
      "11150  5d1c466a-9cfd-11e9-9897-000d3a38a36f        202.0\n",
      "7223   cba59206-9dd1-11e9-9897-000d3a38a36f        131.0\n",
      "8783   a57f4302-b1a8-11e9-89fa-000d3a38a36f        111.0\n",
      "2619   fdbe8304-a7ab-11e9-a2fc-000d3a38a36f         88.0\n",
      "6322   329968c6-a0e2-11e9-a2fc-000d3a38a36f         83.0\n",
      "7613   73fd19aa-9e37-11e9-9897-000d3a38a36f         82.0\n",
      "9347   44d032ee-a0d4-11e9-a2fc-000d3a38a36f         77.0\n",
      "10954  b27e241a-a901-11e9-a2fc-000d3a38a36f         75.0\n",
      "8068   d696c654-2633-11ea-8e1c-000d3a38a36f         70.0\n",
      "7330   a4d534a2-5b1b-11eb-8dbd-000d3a38a36f         70.0\n"
     ]
    }
   ],
   "execution_count": 14
  },
  {
   "metadata": {},
   "cell_type": "markdown",
   "source": "# 7. Adım: Veri ön hazırlık sürecini fonksiyonlaştırma",
   "id": "374c53b4a7b2e469"
  },
  {
   "metadata": {
    "ExecuteTime": {
     "end_time": "2024-08-14T13:17:55.844210Z",
     "start_time": "2024-08-14T13:17:55.827163Z"
    }
   },
   "cell_type": "code",
   "source": [
    "def data_preparation(df):\n",
    "    df[\"total_order\"] = df[\"order_num_total_ever_online\"] + df[\"order_num_total_ever_offline\"]\n",
    "    df[\"total_value\"] = df[\"customer_value_total_ever_online\"] + df[\"customer_value_total_ever_offline\"]\n",
    "    date_columns = [\"first_order_date\", \"last_order_date\", \"last_order_date_online\", \"last_order_date_offline\"]\n",
    "    for col in date_columns:\n",
    "        df[col] = pd.to_datetime(df[col])\n",
    "    return df\n",
    "\n",
    "df = data_preparation(df_copy)"
   ],
   "id": "72a074c48a59135a",
   "outputs": [],
   "execution_count": 15
  },
  {
   "metadata": {},
   "cell_type": "markdown",
   "source": "# 8. Adım: RFM Metriklerinin Hesaplanması",
   "id": "e22ce26dfa1732ad"
  },
  {
   "metadata": {},
   "cell_type": "markdown",
   "source": "# Recency, Frequency ve Monetary tanımları",
   "id": "323a40d781c0efec"
  },
  {
   "metadata": {
    "ExecuteTime": {
     "end_time": "2024-08-14T13:17:55.875509Z",
     "start_time": "2024-08-14T13:17:55.869679Z"
    }
   },
   "cell_type": "code",
   "source": [
    "analysis_date = df[\"last_order_date\"].max() + pd.DateOffset(days=2)\n",
    "\n",
    "df[\"recency\"] = (analysis_date - df[\"last_order_date\"]).dt.days\n",
    "df[\"frequency\"] = df[\"total_order\"]\n",
    "df[\"monetary\"] = df[\"total_value\"]\n",
    "\n",
    "rfm = df[[\"master_id\", \"recency\", \"frequency\", \"monetary\"]]"
   ],
   "id": "23a769abaa690d06",
   "outputs": [],
   "execution_count": 16
  },
  {
   "metadata": {},
   "cell_type": "markdown",
   "source": "# RFM skorlarının hesaplanması",
   "id": "59485bb810790a49"
  },
  {
   "metadata": {
    "ExecuteTime": {
     "end_time": "2024-08-14T13:23:00.090378Z",
     "start_time": "2024-08-14T13:23:00.078781Z"
    }
   },
   "cell_type": "code",
   "source": [
    "rfm.loc[:, \"recency_score\"] = pd.qcut(rfm[\"recency\"], 5, labels=[5, 4, 3, 2, 1])\n",
    "rfm.loc[:, \"frequency_score\"] = pd.qcut(rfm[\"frequency\"].rank(method=\"first\"), 5, labels=[1, 2, 3, 4, 5])\n",
    "rfm.loc[:, \"monetary_score\"] = pd.qcut(rfm[\"monetary\"], 5, labels=[1, 2, 3, 4, 5])\n"
   ],
   "id": "a023e83ef3b84c81",
   "outputs": [],
   "execution_count": 24
  },
  {
   "metadata": {},
   "cell_type": "markdown",
   "source": "# RF_SCORE oluşturulması",
   "id": "5a3e3c9eafadd41c"
  },
  {
   "metadata": {
    "ExecuteTime": {
     "end_time": "2024-08-14T13:32:23.421354Z",
     "start_time": "2024-08-14T13:32:23.392564Z"
    }
   },
   "cell_type": "code",
   "source": "rfm.loc[:, \"RF_SCORE\"] = rfm[\"recency_score\"].astype(str) + rfm[\"frequency_score\"].astype(str)",
   "id": "2f76eb1e2a4bdcb9",
   "outputs": [],
   "execution_count": 29
  },
  {
   "metadata": {},
   "cell_type": "markdown",
   "source": "# RF Skorunun Segment Olarak Tanımlanması",
   "id": "1bf46e545bbd208c"
  },
  {
   "metadata": {
    "ExecuteTime": {
     "end_time": "2024-08-14T13:23:29.531414Z",
     "start_time": "2024-08-14T13:23:29.396521Z"
    }
   },
   "cell_type": "code",
   "source": [
    "seg_map = {\n",
    "    r'[1-2][1-2]': 'hibernating',\n",
    "    r'[1-2][3-4]': 'at_risk',\n",
    "    r'[1-2]5': 'cant_loose',\n",
    "    r'3[1-2]': 'about_to_sleep',\n",
    "    r'33': 'need_attention',\n",
    "    r'[3-4][4-5]': 'loyal_customers',\n",
    "    r'41': 'promising',\n",
    "    r'51': 'new_customers',\n",
    "    r'[4-5][2-3]': 'potential_loyalists',\n",
    "    r'5[4-5]': 'champions'\n",
    "}\n",
    "\n",
    "rfm.loc[:, 'segment'] = rfm['RF_SCORE'].replace(seg_map, regex=True)"
   ],
   "id": "f410f96095c63f4d",
   "outputs": [],
   "execution_count": 25
  },
  {
   "metadata": {},
   "cell_type": "markdown",
   "source": "# Segmentlerin recency, frequency ve monetary ortalamaları",
   "id": "2eb50da75209924d"
  },
  {
   "metadata": {
    "ExecuteTime": {
     "end_time": "2024-08-14T13:23:34.509074Z",
     "start_time": "2024-08-14T13:23:34.497744Z"
    }
   },
   "cell_type": "code",
   "source": [
    "print(\"\\nSegmentlerin recency, frequency ve monetary ortalamaları:\")\n",
    "print(rfm.groupby(\"segment\").agg({\n",
    "    \"recency\": \"mean\",\n",
    "    \"frequency\": \"mean\",\n",
    "    \"monetary\": [\"mean\", \"count\"]\n",
    "}))"
   ],
   "id": "47b73aa0e042b308",
   "outputs": [
    {
     "name": "stdout",
     "output_type": "stream",
     "text": [
      "\n",
      "Segmentlerin recency, frequency ve monetary ortalamaları:\n",
      "                        recency  frequency     monetary      \n",
      "                           mean       mean         mean count\n",
      "segment                                                      \n",
      "about_to_sleep       113.785144   2.401473   359.008963  1629\n",
      "at_risk              241.606835   4.472373   646.610236  3131\n",
      "cant_loose           235.444167  10.698333  1474.468217  1200\n",
      "champions             17.106625   8.934265  1406.625109  1932\n",
      "hibernating          247.949501   2.394007   366.267062  3604\n",
      "loyal_customers       82.594763   8.374591  1216.818616  3361\n",
      "need_attention       113.828676   3.727825   562.142965   823\n",
      "new_customers         17.917647   2.000000   339.955544   680\n",
      "potential_loyalists   37.155888   3.304289   533.184466  2938\n",
      "promising             58.921175   2.000000   335.672705   647\n"
     ]
    }
   ],
   "execution_count": 26
  },
  {
   "metadata": {},
   "cell_type": "markdown",
   "source": "# Sadık müşterilerden (champions, loyal_customers) ve kadın kategorisinden alışveriş yapan kişiler\n",
   "id": "54c4e2372201a86d"
  },
  {
   "metadata": {
    "ExecuteTime": {
     "end_time": "2024-08-14T13:23:39.779412Z",
     "start_time": "2024-08-14T13:23:39.759528Z"
    }
   },
   "cell_type": "code",
   "source": [
    "loyal_customers = rfm[(rfm[\"segment\"] == \"champions\") | (rfm[\"segment\"] == \"loyal_customers\")]\n",
    "loyal_customers = loyal_customers.merge(df[[\"master_id\", \"interested_in_categories_12\"]], on=\"master_id\")\n",
    "loyal_customers = loyal_customers[loyal_customers[\"interested_in_categories_12\"].str.contains(\"KADIN\", na=False)]\n",
    "loyal_customers_ids = loyal_customers[\"master_id\"]\n",
    "loyal_customers_ids.to_csv(\"loyal_customers_ids.csv\", index=False)"
   ],
   "id": "3a91ffe46dfbd8d5",
   "outputs": [],
   "execution_count": 27
  },
  {
   "metadata": {},
   "cell_type": "markdown",
   "source": "# Erkek ve çocuk kategorisinde alışveriş yapan, uykuda olan, kaybedilmemesi gereken müşteriler ve yeni gelen müşteriler\n",
   "id": "8afed228a7705c48"
  },
  {
   "metadata": {
    "ExecuteTime": {
     "end_time": "2024-08-14T13:23:45.201015Z",
     "start_time": "2024-08-14T13:23:45.174719Z"
    }
   },
   "cell_type": "code",
   "source": [
    "target_customers = rfm[(rfm[\"segment\"] == \"hibernating\") | (rfm[\"segment\"] == \"at_risk\") | (rfm[\"segment\"] == \"new_customers\") | (rfm[\"segment\"] == \"about_to_sleep\")]\n",
    "target_customers = target_customers.merge(df[[\"master_id\", \"interested_in_categories_12\"]], on=\"master_id\")\n",
    "target_customers = target_customers[target_customers[\"interested_in_categories_12\"].str.contains(\"ERKEK|COCUK\", na=False)]\n",
    "target_customers_ids = target_customers[\"master_id\"]\n",
    "target_customers_ids.to_csv(\"target_customers_ids.csv\", index=False)"
   ],
   "id": "8cccc73a4af80ed1",
   "outputs": [],
   "execution_count": 28
  },
  {
   "metadata": {},
   "cell_type": "code",
   "outputs": [],
   "execution_count": null,
   "source": "",
   "id": "806eab687496303a"
  }
 ],
 "metadata": {
  "kernelspec": {
   "display_name": "Python 3",
   "language": "python",
   "name": "python3"
  },
  "language_info": {
   "codemirror_mode": {
    "name": "ipython",
    "version": 2
   },
   "file_extension": ".py",
   "mimetype": "text/x-python",
   "name": "python",
   "nbconvert_exporter": "python",
   "pygments_lexer": "ipython2",
   "version": "2.7.6"
  }
 },
 "nbformat": 4,
 "nbformat_minor": 5
}
