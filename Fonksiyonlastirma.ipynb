{
 "cells": [
  {
   "metadata": {},
   "cell_type": "markdown",
   "source": "# Gerekli kütüphaneleri yükleyin",
   "id": "bb37d58d9c46da63"
  },
  {
   "metadata": {
    "ExecuteTime": {
     "end_time": "2024-08-14T13:46:30.966772Z",
     "start_time": "2024-08-14T13:46:30.964160Z"
    }
   },
   "cell_type": "code",
   "source": "import pandas as pd",
   "id": "2b3f5cc40cad78ce",
   "outputs": [],
   "execution_count": 15
  },
  {
   "metadata": {},
   "cell_type": "markdown",
   "source": "# Veriyi yükler",
   "id": "593ed8aa2e55b0cb"
  },
  {
   "metadata": {
    "ExecuteTime": {
     "end_time": "2024-08-14T13:46:31.048370Z",
     "start_time": "2024-08-14T13:46:31.045342Z"
    }
   },
   "cell_type": "code",
   "source": [
    "def load_data(file_path):\n",
    "    \"\"\"\n",
    "    Veriyi yükler.\n",
    "    \"\"\"\n",
    "    df = pd.read_csv(file_path)\n",
    "    return df"
   ],
   "id": "50993c57803459ce",
   "outputs": [],
   "execution_count": 16
  },
  {
   "metadata": {},
   "cell_type": "markdown",
   "source": "# Veriyi inceler ve özet istatistiklerini döndürür",
   "id": "18b83ad6ca657fab"
  },
  {
   "metadata": {
    "ExecuteTime": {
     "end_time": "2024-08-14T13:46:31.054173Z",
     "start_time": "2024-08-14T13:46:31.050851Z"
    }
   },
   "cell_type": "code",
   "source": [
    "def inspect_data(df):\n",
    "    \"\"\"\n",
    "    Veriyi inceler ve özet istatistikleri yazdırır.\n",
    "    \"\"\"\n",
    "    print(\"İlk 10 gözlem:\")\n",
    "    print(df.head(10))\n",
    "    print(\"\\nDeğişken isimleri:\")\n",
    "    print(df.columns)\n",
    "    print(\"\\nBetimsel istatistik:\")\n",
    "    print(df.describe().T)\n",
    "    print(\"\\nBoş değer sayısı:\")\n",
    "    print(df.isnull().sum())\n",
    "    print(\"\\nDeğişken tipleri:\")\n",
    "    print(df.dtypes)"
   ],
   "id": "fc4d7f9902f1859",
   "outputs": [],
   "execution_count": 17
  },
  {
   "metadata": {},
   "cell_type": "markdown",
   "source": "# total_order ve total_value değişkenlerini oluşturur",
   "id": "d513265d0a84e687"
  },
  {
   "metadata": {
    "ExecuteTime": {
     "end_time": "2024-08-14T13:46:31.058717Z",
     "start_time": "2024-08-14T13:46:31.055354Z"
    }
   },
   "cell_type": "code",
   "source": [
    "def create_new_variables(df):\n",
    "    \"\"\"\n",
    "    Yeni değişkenler oluşturur.\n",
    "    \"\"\"\n",
    "    df[\"total_order\"] = df[\"order_num_total_ever_online\"] + df[\"order_num_total_ever_offline\"]\n",
    "    df[\"total_value\"] = df[\"customer_value_total_ever_online\"] + df[\"customer_value_total_ever_offline\"]\n",
    "    return df"
   ],
   "id": "f3a5eff25ca2839e",
   "outputs": [],
   "execution_count": 18
  },
  {
   "metadata": {},
   "cell_type": "markdown",
   "source": "# Tarih sütunlarını datetime'a çevirir",
   "id": "a804a6d3d79b86d4"
  },
  {
   "metadata": {
    "ExecuteTime": {
     "end_time": "2024-08-14T13:46:31.063978Z",
     "start_time": "2024-08-14T13:46:31.060981Z"
    }
   },
   "cell_type": "code",
   "source": [
    "def convert_date_columns(df):\n",
    "    \"\"\"\n",
    "    Tarih sütunlarını datetime formatına çevirir.\n",
    "    \"\"\"\n",
    "    date_columns = [\"first_order_date\", \"last_order_date\", \"last_order_date_online\", \"last_order_date_offline\"]\n",
    "    for col in date_columns:\n",
    "        df[col] = pd.to_datetime(df[col])\n",
    "    return df"
   ],
   "id": "d4f0c42cde294468",
   "outputs": [],
   "execution_count": 19
  },
  {
   "metadata": {},
   "cell_type": "markdown",
   "source": "# Alışveriş kanallarını analiz eder.",
   "id": "be7cb1f1268ed201"
  },
  {
   "metadata": {
    "ExecuteTime": {
     "end_time": "2024-08-14T13:46:31.069341Z",
     "start_time": "2024-08-14T13:46:31.066006Z"
    }
   },
   "cell_type": "code",
   "source": [
    "def analyze_channels(df):\n",
    "    \"\"\"\n",
    "    Alışveriş kanallarını analiz eder.\n",
    "    \"\"\"\n",
    "    print(\"\\nAlışveriş kanallarındaki müşteri sayıları:\")\n",
    "    print(df[\"order_channel\"].value_counts())\n",
    "    print(\"\\nToplam alınan ürün sayısı (online):\")\n",
    "    print(df[\"order_num_total_ever_online\"].sum())\n",
    "    print(\"\\nToplam alınan ürün sayısı (offline):\")\n",
    "    print(df[\"order_num_total_ever_offline\"].sum())\n",
    "    print(\"\\nToplam harcamalar (online):\")\n",
    "    print(df[\"customer_value_total_ever_online\"].sum())\n",
    "    print(\"\\nToplam harcamalar (offline):\")\n",
    "    print(df[\"customer_value_total_ever_offline\"].sum())"
   ],
   "id": "8e2bdc5942bcaac3",
   "outputs": [],
   "execution_count": 20
  },
  {
   "metadata": {},
   "cell_type": "markdown",
   "source": "# En fazla kazancı veya siparişi getirenleri sıralar.",
   "id": "fb2034e0dc4468e8"
  },
  {
   "metadata": {
    "ExecuteTime": {
     "end_time": "2024-08-14T13:46:31.073891Z",
     "start_time": "2024-08-14T13:46:31.071028Z"
    }
   },
   "cell_type": "code",
   "source": [
    "def top_customers(df, by, top_n=10):\n",
    "    \"\"\"\n",
    "    En fazla kazancı veya siparişi getiren müşterileri sıralar.\n",
    "    \"\"\"\n",
    "    top_customers = df.sort_values(by=by, ascending=False).head(top_n)\n",
    "    print(f\"\\nEn fazla {by} getiren ilk {top_n} müşteri:\")\n",
    "    print(top_customers[[\"master_id\", by]])"
   ],
   "id": "6fe7dcfc560df44b",
   "outputs": [],
   "execution_count": 21
  },
  {
   "metadata": {},
   "cell_type": "markdown",
   "source": "# Veriyi hazırlar.",
   "id": "84880cbe622b81b1"
  },
  {
   "metadata": {
    "ExecuteTime": {
     "end_time": "2024-08-14T13:46:31.111069Z",
     "start_time": "2024-08-14T13:46:31.107834Z"
    }
   },
   "cell_type": "code",
   "source": [
    "def data_preparation(df):\n",
    "    \"\"\"\n",
    "    Veriyi hazırlar: yeni değişkenler oluşturur ve tarih sütunlarını dönüştürür.\n",
    "    \"\"\"\n",
    "    df = create_new_variables(df)\n",
    "    df = convert_date_columns(df)\n",
    "    return df"
   ],
   "id": "cc6f1da4611396e0",
   "outputs": [],
   "execution_count": 22
  },
  {
   "metadata": {},
   "cell_type": "markdown",
   "source": "# Recency, Frequency ve Monetary değerlerini hesaplar.",
   "id": "35b64bc9e4176a16"
  },
  {
   "metadata": {
    "ExecuteTime": {
     "end_time": "2024-08-14T13:46:31.127011Z",
     "start_time": "2024-08-14T13:46:31.123669Z"
    }
   },
   "cell_type": "code",
   "source": [
    "def calculate_rfm(df):\n",
    "    \"\"\"\n",
    "    Recency, Frequency ve Monetary değerlerini hesaplar.\n",
    "    \"\"\"\n",
    "    analysis_date = df[\"last_order_date\"].max() + pd.DateOffset(days=2)\n",
    "    df[\"recency\"] = (analysis_date - df[\"last_order_date\"]).dt.days\n",
    "    df[\"frequency\"] = df[\"total_order\"]\n",
    "    df[\"monetary\"] = df[\"total_value\"]\n",
    "    rfm = df[[\"master_id\", \"recency\", \"frequency\", \"monetary\"]].copy()\n",
    "    return rfm"
   ],
   "id": "3154529518bbb12c",
   "outputs": [],
   "execution_count": 23
  },
  {
   "metadata": {},
   "cell_type": "markdown",
   "source": "# RFM skorlarını hesaplar.",
   "id": "ef6031c3a6529c5a"
  },
  {
   "metadata": {
    "ExecuteTime": {
     "end_time": "2024-08-14T13:46:31.133612Z",
     "start_time": "2024-08-14T13:46:31.129173Z"
    }
   },
   "cell_type": "code",
   "source": [
    "def calculate_rfm_scores(rfm):\n",
    "    \"\"\"\n",
    "    RFM skorlarını hesaplar.\n",
    "    \"\"\"\n",
    "    rfm.loc[:, \"recency_score\"] = pd.qcut(rfm[\"recency\"], 5, labels=[5, 4, 3, 2, 1])\n",
    "    rfm.loc[:, \"frequency_score\"] = pd.qcut(rfm[\"frequency\"].rank(method=\"first\"), 5, labels=[1, 2, 3, 4, 5])\n",
    "    rfm.loc[:, \"monetary_score\"] = pd.qcut(rfm[\"monetary\"], 5, labels=[1, 2, 3, 4, 5])\n",
    "    rfm.loc[:, \"RF_SCORE\"] = rfm[\"recency_score\"].astype(str) + rfm[\"frequency_score\"].astype(str)\n",
    "    return rfm"
   ],
   "id": "3f597b234fff63d1",
   "outputs": [],
   "execution_count": 24
  },
  {
   "metadata": {},
   "cell_type": "markdown",
   "source": "# RF skorlarını segmentlere çevirir.",
   "id": "45635da61717ad17"
  },
  {
   "metadata": {
    "ExecuteTime": {
     "end_time": "2024-08-14T13:46:31.164488Z",
     "start_time": "2024-08-14T13:46:31.161424Z"
    }
   },
   "cell_type": "code",
   "source": [
    "def segment_rfm(rfm):\n",
    "    \"\"\"\n",
    "    RF skorlarını segmentlere çevirir.\n",
    "    \"\"\"\n",
    "    seg_map = {\n",
    "        r'[1-2][1-2]': 'hibernating',\n",
    "        r'[1-2][3-4]': 'at_risk',\n",
    "        r'[1-2]5': 'cant_loose',\n",
    "        r'3[1-2]': 'about_to_sleep',\n",
    "        r'33': 'need_attention',\n",
    "        r'[3-4][4-5]': 'loyal_customers',\n",
    "        r'41': 'promising',\n",
    "        r'51': 'new_customers',\n",
    "        r'[4-5][2-3]': 'potential_loyalists',\n",
    "        r'5[4-5]': 'champions'\n",
    "    }\n",
    "    rfm.loc[:, 'segment'] = rfm['RF_SCORE'].replace(seg_map, regex=True)\n",
    "    return rfm"
   ],
   "id": "d451d67902669a41",
   "outputs": [],
   "execution_count": 25
  },
  {
   "metadata": {},
   "cell_type": "markdown",
   "source": "# Belirli segmentlerdeki müşterileri kaydeder.",
   "id": "9d9a7c7567574c26"
  },
  {
   "metadata": {
    "ExecuteTime": {
     "end_time": "2024-08-14T13:46:31.170077Z",
     "start_time": "2024-08-14T13:46:31.166384Z"
    }
   },
   "cell_type": "code",
   "source": [
    "def save_segment_customers(rfm, df, segment, categories, file_name):\n",
    "    \"\"\"\n",
    "    Belirli segmentlerdeki müşterileri kaydeder.\n",
    "    \"\"\"\n",
    "    segment_customers = rfm[rfm[\"segment\"].isin(segment)]\n",
    "    segment_customers = segment_customers.merge(df[[\"master_id\", \"interested_in_categories_12\"]], on=\"master_id\")\n",
    "    segment_customers = segment_customers[segment_customers[\"interested_in_categories_12\"].str.contains(categories, na=False)]\n",
    "    segment_customers_ids = segment_customers[\"master_id\"]\n",
    "    segment_customers_ids.to_csv(file_name, index=False)"
   ],
   "id": "4157c6d786170ef7",
   "outputs": [],
   "execution_count": 26
  },
  {
   "metadata": {},
   "cell_type": "markdown",
   "source": "# Tüm süreci çalıştırır.",
   "id": "1b44796ecb9acc40"
  },
  {
   "metadata": {
    "ExecuteTime": {
     "end_time": "2024-08-14T13:46:31.182221Z",
     "start_time": "2024-08-14T13:46:31.177866Z"
    }
   },
   "cell_type": "code",
   "source": [
    "def main(file_path):\n",
    "    \"\"\"\n",
    "    Tüm süreci çalıştırır.\n",
    "    \"\"\"\n",
    "    df = load_data(file_path)\n",
    "    inspect_data(df)\n",
    "    df = data_preparation(df)\n",
    "    analyze_channels(df)\n",
    "    top_customers(df, by=\"total_value\")\n",
    "    top_customers(df, by=\"total_order\")\n",
    "    rfm = calculate_rfm(df)\n",
    "    rfm = calculate_rfm_scores(rfm)\n",
    "    rfm = segment_rfm(rfm)\n",
    "    \n",
    "    print(\"\\nSegmentlerin recency, frequency ve monetary ortalamaları:\")\n",
    "    print(rfm.groupby(\"segment\").agg({\n",
    "        \"recency\": \"mean\",\n",
    "        \"frequency\": \"mean\",\n",
    "        \"monetary\": [\"mean\", \"count\"]\n",
    "    }))\n",
    "    \n",
    "    save_segment_customers(rfm, df, segment=[\"champions\", \"loyal_customers\"], categories=\"KADIN\", file_name=\"loyal_customers_ids.csv\")\n",
    "    save_segment_customers(rfm, df, segment=[\"hibernating\", \"at_risk\", \"new_customers\", \"about_to_sleep\"], categories=\"ERKEK|COCUK\", file_name=\"target_customers_ids.csv\")"
   ],
   "id": "4f9656b9778d4281",
   "outputs": [],
   "execution_count": 27
  },
  {
   "metadata": {},
   "cell_type": "markdown",
   "source": "# Ana fonksiyonu çalıştırır.",
   "id": "7313ea6f02f19391"
  },
  {
   "metadata": {
    "ExecuteTime": {
     "end_time": "2024-08-14T13:46:31.493909Z",
     "start_time": "2024-08-14T13:46:31.184401Z"
    }
   },
   "cell_type": "code",
   "source": [
    "file_path = 'flo_data_20k.csv'\n",
    "main(file_path)"
   ],
   "id": "74d96cd373508d02",
   "outputs": [
    {
     "name": "stdout",
     "output_type": "stream",
     "text": [
      "İlk 10 gözlem:\n",
      "                              master_id order_channel last_order_channel  \\\n",
      "0  cc294636-19f0-11eb-8d74-000d3a38a36f   Android App            Offline   \n",
      "1  f431bd5a-ab7b-11e9-a2fc-000d3a38a36f   Android App             Mobile   \n",
      "2  69b69676-1a40-11ea-941b-000d3a38a36f   Android App        Android App   \n",
      "3  1854e56c-491f-11eb-806e-000d3a38a36f   Android App        Android App   \n",
      "4  d6ea1074-f1f5-11e9-9346-000d3a38a36f       Desktop            Desktop   \n",
      "5  e585280e-aae1-11e9-a2fc-000d3a38a36f       Desktop            Offline   \n",
      "6  c445e4ee-6242-11ea-9d1a-000d3a38a36f   Android App        Android App   \n",
      "7  3f1b4dc8-8a7d-11ea-8ec0-000d3a38a36f        Mobile            Offline   \n",
      "8  cfbda69e-5b4f-11ea-aca7-000d3a38a36f   Android App        Android App   \n",
      "9  1143f032-440d-11ea-8b43-000d3a38a36f        Mobile             Mobile   \n",
      "\n",
      "  first_order_date last_order_date last_order_date_online  \\\n",
      "0       2020-10-30      2021-02-26             2021-02-21   \n",
      "1       2017-02-08      2021-02-16             2021-02-16   \n",
      "2       2019-11-27      2020-11-27             2020-11-27   \n",
      "3       2021-01-06      2021-01-17             2021-01-17   \n",
      "4       2019-08-03      2021-03-07             2021-03-07   \n",
      "5       2018-11-18      2021-03-13             2018-11-18   \n",
      "6       2020-03-04      2020-10-18             2020-10-18   \n",
      "7       2020-05-15      2020-08-12             2020-05-15   \n",
      "8       2020-01-23      2021-03-07             2021-03-07   \n",
      "9       2019-07-30      2020-10-04             2020-10-04   \n",
      "\n",
      "  last_order_date_offline  order_num_total_ever_online  \\\n",
      "0              2021-02-26                          4.0   \n",
      "1              2020-01-10                         19.0   \n",
      "2              2019-12-01                          3.0   \n",
      "3              2021-01-06                          1.0   \n",
      "4              2019-08-03                          1.0   \n",
      "5              2021-03-13                          1.0   \n",
      "6              2020-03-04                          3.0   \n",
      "7              2020-08-12                          1.0   \n",
      "8              2020-01-25                          3.0   \n",
      "9              2019-07-30                          1.0   \n",
      "\n",
      "   order_num_total_ever_offline  customer_value_total_ever_offline  \\\n",
      "0                           1.0                             139.99   \n",
      "1                           2.0                             159.97   \n",
      "2                           2.0                             189.97   \n",
      "3                           1.0                              39.99   \n",
      "4                           1.0                              49.99   \n",
      "5                           2.0                             150.87   \n",
      "6                           1.0                              59.99   \n",
      "7                           1.0                              49.99   \n",
      "8                           2.0                             120.48   \n",
      "9                           1.0                              69.98   \n",
      "\n",
      "   customer_value_total_ever_online       interested_in_categories_12  \n",
      "0                            799.38                           [KADIN]  \n",
      "1                           1853.58  [ERKEK, COCUK, KADIN, AKTIFSPOR]  \n",
      "2                            395.35                    [ERKEK, KADIN]  \n",
      "3                             81.98               [AKTIFCOCUK, COCUK]  \n",
      "4                            159.99                       [AKTIFSPOR]  \n",
      "5                             49.99                           [KADIN]  \n",
      "6                            315.94                       [AKTIFSPOR]  \n",
      "7                            113.64                           [COCUK]  \n",
      "8                            934.21             [ERKEK, COCUK, KADIN]  \n",
      "9                             95.98                [KADIN, AKTIFSPOR]  \n",
      "\n",
      "Değişken isimleri:\n",
      "Index(['master_id', 'order_channel', 'last_order_channel', 'first_order_date',\n",
      "       'last_order_date', 'last_order_date_online', 'last_order_date_offline',\n",
      "       'order_num_total_ever_online', 'order_num_total_ever_offline',\n",
      "       'customer_value_total_ever_offline', 'customer_value_total_ever_online',\n",
      "       'interested_in_categories_12'],\n",
      "      dtype='object')\n",
      "\n",
      "Betimsel istatistik:\n",
      "                                     count        mean         std    min  \\\n",
      "order_num_total_ever_online        19945.0    3.110855    4.225647   1.00   \n",
      "order_num_total_ever_offline       19945.0    1.913913    2.062880   1.00   \n",
      "customer_value_total_ever_offline  19945.0  253.922597  301.532853  10.00   \n",
      "customer_value_total_ever_online   19945.0  497.321690  832.601886  12.99   \n",
      "\n",
      "                                      25%     50%     75%       max  \n",
      "order_num_total_ever_online          1.00    2.00    4.00    200.00  \n",
      "order_num_total_ever_offline         1.00    1.00    2.00    109.00  \n",
      "customer_value_total_ever_offline   99.99  179.98  319.97  18119.14  \n",
      "customer_value_total_ever_online   149.98  286.46  578.44  45220.13  \n",
      "\n",
      "Boş değer sayısı:\n",
      "master_id                            0\n",
      "order_channel                        0\n",
      "last_order_channel                   0\n",
      "first_order_date                     0\n",
      "last_order_date                      0\n",
      "last_order_date_online               0\n",
      "last_order_date_offline              0\n",
      "order_num_total_ever_online          0\n",
      "order_num_total_ever_offline         0\n",
      "customer_value_total_ever_offline    0\n",
      "customer_value_total_ever_online     0\n",
      "interested_in_categories_12          0\n",
      "dtype: int64\n",
      "\n",
      "Değişken tipleri:\n",
      "master_id                             object\n",
      "order_channel                         object\n",
      "last_order_channel                    object\n",
      "first_order_date                      object\n",
      "last_order_date                       object\n",
      "last_order_date_online                object\n",
      "last_order_date_offline               object\n",
      "order_num_total_ever_online          float64\n",
      "order_num_total_ever_offline         float64\n",
      "customer_value_total_ever_offline    float64\n",
      "customer_value_total_ever_online     float64\n",
      "interested_in_categories_12           object\n",
      "dtype: object\n",
      "\n",
      "Alışveriş kanallarındaki müşteri sayıları:\n",
      "order_channel\n",
      "Android App    9495\n",
      "Mobile         4882\n",
      "Ios App        2833\n",
      "Desktop        2735\n",
      "Name: count, dtype: int64\n",
      "\n",
      "Toplam alınan ürün sayısı (online):\n",
      "62046.0\n",
      "\n",
      "Toplam alınan ürün sayısı (offline):\n",
      "38173.0\n",
      "\n",
      "Toplam harcamalar (online):\n",
      "9919081.11\n",
      "\n",
      "Toplam harcamalar (offline):\n",
      "5064486.199999999\n",
      "\n",
      "En fazla total_value getiren ilk 10 müşteri:\n",
      "                                  master_id  total_value\n",
      "11150  5d1c466a-9cfd-11e9-9897-000d3a38a36f     45905.10\n",
      "4315   d5ef8058-a5c6-11e9-a2fc-000d3a38a36f     36818.29\n",
      "7613   73fd19aa-9e37-11e9-9897-000d3a38a36f     33918.10\n",
      "13880  7137a5c0-7aad-11ea-8f20-000d3a38a36f     31227.41\n",
      "9055   47a642fe-975b-11eb-8c2a-000d3a38a36f     20706.34\n",
      "7330   a4d534a2-5b1b-11eb-8dbd-000d3a38a36f     18443.57\n",
      "8068   d696c654-2633-11ea-8e1c-000d3a38a36f     16918.57\n",
      "163    fef57ffa-aae6-11e9-a2fc-000d3a38a36f     12726.10\n",
      "7223   cba59206-9dd1-11e9-9897-000d3a38a36f     12282.24\n",
      "18767  fc0ce7a4-9d87-11e9-9897-000d3a38a36f     12103.15\n",
      "\n",
      "En fazla total_order getiren ilk 10 müşteri:\n",
      "                                  master_id  total_order\n",
      "11150  5d1c466a-9cfd-11e9-9897-000d3a38a36f        202.0\n",
      "7223   cba59206-9dd1-11e9-9897-000d3a38a36f        131.0\n",
      "8783   a57f4302-b1a8-11e9-89fa-000d3a38a36f        111.0\n",
      "2619   fdbe8304-a7ab-11e9-a2fc-000d3a38a36f         88.0\n",
      "6322   329968c6-a0e2-11e9-a2fc-000d3a38a36f         83.0\n",
      "7613   73fd19aa-9e37-11e9-9897-000d3a38a36f         82.0\n",
      "9347   44d032ee-a0d4-11e9-a2fc-000d3a38a36f         77.0\n",
      "10954  b27e241a-a901-11e9-a2fc-000d3a38a36f         75.0\n",
      "8068   d696c654-2633-11ea-8e1c-000d3a38a36f         70.0\n",
      "7330   a4d534a2-5b1b-11eb-8dbd-000d3a38a36f         70.0\n",
      "\n",
      "Segmentlerin recency, frequency ve monetary ortalamaları:\n",
      "                        recency  frequency     monetary      \n",
      "                           mean       mean         mean count\n",
      "segment                                                      \n",
      "about_to_sleep       113.785144   2.401473   359.008963  1629\n",
      "at_risk              241.606835   4.472373   646.610236  3131\n",
      "cant_loose           235.444167  10.698333  1474.468217  1200\n",
      "champions             17.106625   8.934265  1406.625109  1932\n",
      "hibernating          247.949501   2.394007   366.267062  3604\n",
      "loyal_customers       82.594763   8.374591  1216.818616  3361\n",
      "need_attention       113.828676   3.727825   562.142965   823\n",
      "new_customers         17.917647   2.000000   339.955544   680\n",
      "potential_loyalists   37.155888   3.304289   533.184466  2938\n",
      "promising             58.921175   2.000000   335.672705   647\n"
     ]
    }
   ],
   "execution_count": 28
  }
 ],
 "metadata": {
  "kernelspec": {
   "display_name": "Python 3",
   "language": "python",
   "name": "python3"
  },
  "language_info": {
   "codemirror_mode": {
    "name": "ipython",
    "version": 2
   },
   "file_extension": ".py",
   "mimetype": "text/x-python",
   "name": "python",
   "nbconvert_exporter": "python",
   "pygments_lexer": "ipython2",
   "version": "2.7.6"
  }
 },
 "nbformat": 4,
 "nbformat_minor": 5
}
