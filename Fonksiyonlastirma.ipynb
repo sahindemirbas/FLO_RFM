{
 "cells": [
  {
   "metadata": {},
   "cell_type": "markdown",
   "source": "# Gerekli kütüphaneleri yükleyin",
   "id": "bb37d58d9c46da63"
  },
  {
   "metadata": {},
   "cell_type": "code",
   "outputs": [],
   "execution_count": null,
   "source": "import pandas as pd",
   "id": "2b3f5cc40cad78ce"
  },
  {
   "metadata": {},
   "cell_type": "markdown",
   "source": "# Veriyi yükler",
   "id": "593ed8aa2e55b0cb"
  },
  {
   "metadata": {},
   "cell_type": "code",
   "outputs": [],
   "execution_count": null,
   "source": [
    "def load_data(file_path):\n",
    "    \"\"\"\n",
    "    Veriyi yükler.\n",
    "    \"\"\"\n",
    "    df = pd.read_csv(file_path)\n",
    "    return df"
   ],
   "id": "50993c57803459ce"
  },
  {
   "metadata": {},
   "cell_type": "markdown",
   "source": "# Veriyi inceler ve özet istatistiklerini döndürür",
   "id": "18b83ad6ca657fab"
  },
  {
   "metadata": {},
   "cell_type": "code",
   "outputs": [],
   "execution_count": null,
   "source": [
    "def inspect_data(df):\n",
    "    \"\"\"\n",
    "    Veriyi inceler ve özet istatistikleri yazdırır.\n",
    "    \"\"\"\n",
    "    print(\"İlk 10 gözlem:\")\n",
    "    print(df.head(10))\n",
    "    print(\"\\nDeğişken isimleri:\")\n",
    "    print(df.columns)\n",
    "    print(\"\\nBetimsel istatistik:\")\n",
    "    print(df.describe().T)\n",
    "    print(\"\\nBoş değer sayısı:\")\n",
    "    print(df.isnull().sum())\n",
    "    print(\"\\nDeğişken tipleri:\")\n",
    "    print(df.dtypes)"
   ],
   "id": "fc4d7f9902f1859"
  },
  {
   "metadata": {},
   "cell_type": "markdown",
   "source": "# total_order ve total_value değişkenlerini oluşturur",
   "id": "d513265d0a84e687"
  },
  {
   "metadata": {},
   "cell_type": "code",
   "outputs": [],
   "execution_count": null,
   "source": [
    "def create_new_variables(df):\n",
    "    \"\"\"\n",
    "    Yeni değişkenler oluşturur.\n",
    "    \"\"\"\n",
    "    df[\"total_order\"] = df[\"order_num_total_ever_online\"] + df[\"order_num_total_ever_offline\"]\n",
    "    df[\"total_value\"] = df[\"customer_value_total_ever_online\"] + df[\"customer_value_total_ever_offline\"]\n",
    "    return df"
   ],
   "id": "f3a5eff25ca2839e"
  },
  {
   "metadata": {},
   "cell_type": "markdown",
   "source": "# Tarih sütunlarını datetime'a çevirir",
   "id": "a804a6d3d79b86d4"
  },
  {
   "metadata": {},
   "cell_type": "code",
   "outputs": [],
   "execution_count": null,
   "source": [
    "def convert_date_columns(df):\n",
    "    \"\"\"\n",
    "    Tarih sütunlarını datetime formatına çevirir.\n",
    "    \"\"\"\n",
    "    date_columns = [\"first_order_date\", \"last_order_date\", \"last_order_date_online\", \"last_order_date_offline\"]\n",
    "    for col in date_columns:\n",
    "        df[col] = pd.to_datetime(df[col])\n",
    "    return df"
   ],
   "id": "d4f0c42cde294468"
  },
  {
   "metadata": {},
   "cell_type": "markdown",
   "source": "# Alışveriş kanallarını analiz eder.",
   "id": "be7cb1f1268ed201"
  },
  {
   "metadata": {},
   "cell_type": "code",
   "outputs": [],
   "execution_count": null,
   "source": [
    "def analyze_channels(df):\n",
    "    \"\"\"\n",
    "    Alışveriş kanallarını analiz eder.\n",
    "    \"\"\"\n",
    "    print(\"\\nAlışveriş kanallarındaki müşteri sayıları:\")\n",
    "    print(df[\"order_channel\"].value_counts())\n",
    "    print(\"\\nToplam alınan ürün sayısı (online):\")\n",
    "    print(df[\"order_num_total_ever_online\"].sum())\n",
    "    print(\"\\nToplam alınan ürün sayısı (offline):\")\n",
    "    print(df[\"order_num_total_ever_offline\"].sum())\n",
    "    print(\"\\nToplam harcamalar (online):\")\n",
    "    print(df[\"customer_value_total_ever_online\"].sum())\n",
    "    print(\"\\nToplam harcamalar (offline):\")\n",
    "    print(df[\"customer_value_total_ever_offline\"].sum())"
   ],
   "id": "8e2bdc5942bcaac3"
  },
  {
   "metadata": {},
   "cell_type": "markdown",
   "source": "# En fazla kazancı veya siparişi getirenleri sıralar.",
   "id": "fb2034e0dc4468e8"
  },
  {
   "metadata": {},
   "cell_type": "code",
   "outputs": [],
   "execution_count": null,
   "source": [
    "def top_customers(df, by, top_n=10):\n",
    "    \"\"\"\n",
    "    En fazla kazancı veya siparişi getiren müşterileri sıralar.\n",
    "    \"\"\"\n",
    "    top_customers = df.sort_values(by=by, ascending=False).head(top_n)\n",
    "    print(f\"\\nEn fazla {by} getiren ilk {top_n} müşteri:\")\n",
    "    print(top_customers[[\"master_id\", by]])"
   ],
   "id": "6fe7dcfc560df44b"
  },
  {
   "metadata": {},
   "cell_type": "markdown",
   "source": "# Veriyi hazırlar.",
   "id": "84880cbe622b81b1"
  },
  {
   "metadata": {},
   "cell_type": "code",
   "outputs": [],
   "execution_count": null,
   "source": [
    "def data_preparation(df):\n",
    "    \"\"\"\n",
    "    Veriyi hazırlar: yeni değişkenler oluşturur ve tarih sütunlarını dönüştürür.\n",
    "    \"\"\"\n",
    "    df = create_new_variables(df)\n",
    "    df = convert_date_columns(df)\n",
    "    return df"
   ],
   "id": "cc6f1da4611396e0"
  },
  {
   "metadata": {},
   "cell_type": "markdown",
   "source": "# Recency, Frequency ve Monetary değerlerini hesaplar.",
   "id": "35b64bc9e4176a16"
  },
  {
   "metadata": {},
   "cell_type": "code",
   "outputs": [],
   "execution_count": null,
   "source": [
    "def calculate_rfm(df):\n",
    "    \"\"\"\n",
    "    Recency, Frequency ve Monetary değerlerini hesaplar.\n",
    "    \"\"\"\n",
    "    analysis_date = df[\"last_order_date\"].max() + pd.DateOffset(days=2)\n",
    "    df[\"recency\"] = (analysis_date - df[\"last_order_date\"]).dt.days\n",
    "    df[\"frequency\"] = df[\"total_order\"]\n",
    "    df[\"monetary\"] = df[\"total_value\"]\n",
    "    rfm = df[[\"master_id\", \"recency\", \"frequency\", \"monetary\"]].copy()\n",
    "    return rfm"
   ],
   "id": "3154529518bbb12c"
  },
  {
   "metadata": {},
   "cell_type": "markdown",
   "source": "# RFM skorlarını hesaplar.",
   "id": "ef6031c3a6529c5a"
  },
  {
   "metadata": {},
   "cell_type": "code",
   "outputs": [],
   "execution_count": null,
   "source": [
    "def calculate_rfm_scores(rfm):\n",
    "    \"\"\"\n",
    "    RFM skorlarını hesaplar.\n",
    "    \"\"\"\n",
    "    rfm.loc[:, \"recency_score\"] = pd.qcut(rfm[\"recency\"], 5, labels=[5, 4, 3, 2, 1])\n",
    "    rfm.loc[:, \"frequency_score\"] = pd.qcut(rfm[\"frequency\"].rank(method=\"first\"), 5, labels=[1, 2, 3, 4, 5])\n",
    "    rfm.loc[:, \"monetary_score\"] = pd.qcut(rfm[\"monetary\"], 5, labels=[1, 2, 3, 4, 5])\n",
    "    rfm.loc[:, \"RF_SCORE\"] = rfm[\"recency_score\"].astype(str) + rfm[\"frequency_score\"].astype(str)\n",
    "    return rfm"
   ],
   "id": "3f597b234fff63d1"
  },
  {
   "metadata": {},
   "cell_type": "markdown",
   "source": "# RF skorlarını segmentlere çevirir.",
   "id": "45635da61717ad17"
  },
  {
   "metadata": {},
   "cell_type": "code",
   "outputs": [],
   "execution_count": null,
   "source": [
    "def segment_rfm(rfm):\n",
    "    \"\"\"\n",
    "    RF skorlarını segmentlere çevirir.\n",
    "    \"\"\"\n",
    "    seg_map = {\n",
    "        r'[1-2][1-2]': 'hibernating',\n",
    "        r'[1-2][3-4]': 'at_risk',\n",
    "        r'[1-2]5': 'cant_loose',\n",
    "        r'3[1-2]': 'about_to_sleep',\n",
    "        r'33': 'need_attention',\n",
    "        r'[3-4][4-5]': 'loyal_customers',\n",
    "        r'41': 'promising',\n",
    "        r'51': 'new_customers',\n",
    "        r'[4-5][2-3]': 'potential_loyalists',\n",
    "        r'5[4-5]': 'champions'\n",
    "    }\n",
    "    rfm.loc[:, 'segment'] = rfm['RF_SCORE'].replace(seg_map, regex=True)\n",
    "    return rfm"
   ],
   "id": "d451d67902669a41"
  },
  {
   "metadata": {},
   "cell_type": "markdown",
   "source": "# Belirli segmentlerdeki müşterileri kaydeder.",
   "id": "9d9a7c7567574c26"
  },
  {
   "metadata": {},
   "cell_type": "code",
   "outputs": [],
   "execution_count": null,
   "source": [
    "def save_segment_customers(rfm, df, segment, categories, file_name):\n",
    "    \"\"\"\n",
    "    Belirli segmentlerdeki müşterileri kaydeder.\n",
    "    \"\"\"\n",
    "    segment_customers = rfm[rfm[\"segment\"].isin(segment)]\n",
    "    segment_customers = segment_customers.merge(df[[\"master_id\", \"interested_in_categories_12\"]], on=\"master_id\")\n",
    "    segment_customers = segment_customers[segment_customers[\"interested_in_categories_12\"].str.contains(categories, na=False)]\n",
    "    segment_customers_ids = segment_customers[\"master_id\"]\n",
    "    segment_customers_ids.to_csv(file_name, index=False)"
   ],
   "id": "4157c6d786170ef7"
  },
  {
   "metadata": {},
   "cell_type": "markdown",
   "source": "# Tüm süreci çalıştırır.",
   "id": "1b44796ecb9acc40"
  },
  {
   "metadata": {},
   "cell_type": "code",
   "outputs": [],
   "execution_count": null,
   "source": [
    "def main(file_path):\n",
    "    \"\"\"\n",
    "    Tüm süreci çalıştırır.\n",
    "    \"\"\"\n",
    "    df = load_data(file_path)\n",
    "    inspect_data(df)\n",
    "    df = data_preparation(df)\n",
    "    analyze_channels(df)\n",
    "    top_customers(df, by=\"total_value\")\n",
    "    top_customers(df, by=\"total_order\")\n",
    "    rfm = calculate_rfm(df)\n",
    "    rfm = calculate_rfm_scores(rfm)\n",
    "    rfm = segment_rfm(rfm)\n",
    "    \n",
    "    print(\"\\nSegmentlerin recency, frequency ve monetary ortalamaları:\")\n",
    "    print(rfm.groupby(\"segment\").agg({\n",
    "        \"recency\": \"mean\",\n",
    "        \"frequency\": \"mean\",\n",
    "        \"monetary\": [\"mean\", \"count\"]\n",
    "    }))\n",
    "    \n",
    "    save_segment_customers(rfm, df, segment=[\"champions\", \"loyal_customers\"], categories=\"KADIN\", file_name=\"loyal_customers_ids.csv\")\n",
    "    save_segment_customers(rfm, df, segment=[\"hibernating\", \"at_risk\", \"new_customers\", \"about_to_sleep\"], categories=\"ERKEK|COCUK\", file_name=\"target_customers_ids.csv\")"
   ],
   "id": "4f9656b9778d4281"
  },
  {
   "metadata": {},
   "cell_type": "markdown",
   "source": "# Ana fonksiyonu çalıştırır.",
   "id": "7313ea6f02f19391"
  },
  {
   "metadata": {},
   "cell_type": "code",
   "outputs": [],
   "execution_count": null,
   "source": [
    "file_path = 'https://github.com/sahindemirbas/FLO_RFM/blob/b87c31ddb54a02c4782638786d0627167bd37d0e/flo_data_20k.csv'\n",
    "main(file_path)"
   ],
   "id": "74d96cd373508d02"
  }
 ],
 "metadata": {
  "kernelspec": {
   "display_name": "Python 3",
   "language": "python",
   "name": "python3"
  },
  "language_info": {
   "codemirror_mode": {
    "name": "ipython",
    "version": 2
   },
   "file_extension": ".py",
   "mimetype": "text/x-python",
   "name": "python",
   "nbconvert_exporter": "python",
   "pygments_lexer": "ipython2",
   "version": "2.7.6"
  }
 },
 "nbformat": 4,
 "nbformat_minor": 5
}
